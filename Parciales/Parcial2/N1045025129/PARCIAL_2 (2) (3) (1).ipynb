{
 "cells": [
  {
   "cell_type": "code",
   "execution_count": 105,
   "metadata": {
    "colab": {},
    "colab_type": "code",
    "id": "xHyZjmH7KZ8K"
   },
   "outputs": [],
   "source": [
    "import numpy as np\n",
    "import matplotlib.pyplot as plt\n",
    "from scipy.integrate import odeint\n",
    "import time\n",
    "import os\n",
    "from scipy.stats import norm\n",
    "from scipy.optimize import curve_fit\n",
    "import math"
   ]
  },
  {
   "cell_type": "code",
   "execution_count": 2,
   "metadata": {
    "colab": {},
    "colab_type": "code",
    "id": "G1yofNSmV9Rt"
   },
   "outputs": [],
   "source": [
    "def initialize_matrix(n):\n",
    "    M_n = np.arange(n*n).reshape((n, n))\n",
    "    for i in range(0,n):\n",
    "        for j in range(0,n): \n",
    "            M_n [i][j] =  np.random.randint(2)\n",
    "\n",
    "    return M_n"
   ]
  },
  {
   "cell_type": "code",
   "execution_count": 3,
   "metadata": {
    "colab": {},
    "colab_type": "code",
    "id": "LqYOafUdrf4j"
   },
   "outputs": [],
   "source": [
    "def Evol_system(M_n):\n",
    "    Vecinos = np.arange(8).reshape((1, 8))\n",
    "    N = M_n\n",
    "\n",
    "    for i in range(1, M_n.shape[0] - 1):\n",
    "        for j in range(1, M_n.shape[0] - 1): \n",
    "            N[i][j] =  M_n[i][j]\n",
    "  \n",
    "            Vecinos = np.array([M_n[i-1][j-1], M_n[i-1][j], M_n[i-1][j+1], M_n[i][j-1], M_n[i][j+1], M_n[i+1][j-1], M_n[i+1][j], M_n[i+1][j+1]])\n",
    "            k = np.count_nonzero(Vecinos==1)\n",
    "      \n",
    "            if M_n[i][j] == 0:\n",
    "                if k==3:\n",
    "                    N[i][j] = 1\n",
    "                else:\n",
    "                    N [i][j] = 0\n",
    "\n",
    "            else:\n",
    "                if k==2 or k==3:\n",
    "                    N[i][j] = 1\n",
    "                else:\n",
    "                    N[i][j] = 0\n",
    "      \n",
    "        M_n = N\n",
    "\n",
    "        return M_n"
   ]
  },
  {
   "cell_type": "code",
   "execution_count": 4,
   "metadata": {
    "colab": {
     "base_uri": "https://localhost:8080/",
     "height": 345
    },
    "colab_type": "code",
    "id": "ZuLwa_o3Y9Ph",
    "outputId": "498a0595-c361-4ba5-ddd7-2ecff0afe2a6"
   },
   "outputs": [],
   "source": [
    "for h in range(1, 13):\n",
    "    n = h * 5\n",
    "    filename = \"time_n=\" + str(n) + \".txt\"\n",
    "    archivo = open(filename, \"a\")\n",
    "\n",
    "    for p in range(0,50):\n",
    "        M_n = initialize_matrix(h*5)\n",
    "        k = [np.count_nonzero(M_n==1)]\n",
    "\n",
    "        for i in range(0,9):\n",
    "            M_n = Evol_system(M_n)\n",
    "            k.append(np.count_nonzero(M_n == 1))\n",
    "\n",
    "        tiempo_inicial=time.time()\n",
    "\n",
    "        while(1):\n",
    "            Evol_system(M_n)\n",
    "\n",
    "            k[:-1] = k[1:]\n",
    "            k[-1] = np.count_nonzero(M_n==1) \n",
    "      \n",
    "      # condiciones de estabilidad por periodicidad\n",
    "            condition_p1 = sum(k) == k[-1] * 10\n",
    "            condition_p2 = sum([k[i] for i in range(0, len(k), 2)]) == k[-2] * 5 and sum([k[i] for i in range(1, len(k), 2)]) == k[-1] * 5 \n",
    "            condition_p3 = sum([k[i] for i in range(0, len(k), 3)]) == k[-1] * 4 and sum([k[i] for i in range(1, len(k), 3)]) == k[-3] * 3 and sum([k[i] for i in range(2, len(k), 3)]) == k[-2] * 3  \n",
    "            condition_p4 = sum([k[i] for i in range(0, len(k), 4)]) == k[-2] * 3 and sum([k[i] for i in range(1, len(k), 4)]) == k[-1] * 3 and sum([k[i] for i in range(2, len(k), 4)]) == k[-4] * 2 and sum([k[i] for i in range(2, len(k), 4)]) == k[-3] * 2  \n",
    "            condition_p2_double = sum([k[i] for i in range(0, len(k), 2)]) == (3 * k[-1] + 2 * k[-3])\n",
    "            condition_p3_double = sum([k[i] for i in range(0, len(k), 3)]) == (2 * k[-2] + 2 * k[-1]) and sum([k[i] for i in range(1, len(k), 3)]) == (2 * k[-2] + k[-1]) \n",
    "\n",
    "              #si alguna condicion se estabilidad se cumple se para el ciclo\n",
    "            if condition_p1 or condition_p2 or condition_p3 or condition_p4 or condition_p2_double or condition_p3_double:\n",
    "                break\n",
    "\n",
    "        archivo.write(str(time.time()-tiempo_inicial) + '\\n')\n",
    "\n",
    "    archivo.close()"
   ]
  },
  {
   "cell_type": "code",
   "execution_count": 5,
   "metadata": {
    "colab": {
     "base_uri": "https://localhost:8080/",
     "height": 50
    },
    "colab_type": "code",
    "id": "PwnvE_m0Qmga",
    "outputId": "d13fd9aa-d12c-464c-bc55-f6740620a10b"
   },
   "outputs": [
    {
     "data": {
      "text/plain": [
       "0.00037860870361328125"
      ]
     },
     "execution_count": 5,
     "metadata": {},
     "output_type": "execute_result"
    }
   ],
   "source": [
    "#Máximo valor para n=5\n",
    "x1= np.loadtxt('time_n=5.txt', unpack=True)\n",
    "np.max(x1)"
   ]
  },
  {
   "cell_type": "code",
   "execution_count": 6,
   "metadata": {
    "colab": {
     "base_uri": "https://localhost:8080/",
     "height": 53
    },
    "colab_type": "code",
    "id": "yjqH-lOzQoxg",
    "outputId": "2945ab1a-4aa8-46d9-fa2a-477e9614faea"
   },
   "outputs": [
    {
     "data": {
      "text/plain": [
       "0.0008471012115478516"
      ]
     },
     "execution_count": 6,
     "metadata": {},
     "output_type": "execute_result"
    }
   ],
   "source": [
    "#Máximo valor para n=10\n",
    "x2= np.loadtxt('time_n=10.txt', unpack=True)\n",
    "np.max(x2)"
   ]
  },
  {
   "cell_type": "code",
   "execution_count": 7,
   "metadata": {
    "colab": {},
    "colab_type": "code",
    "id": "P5PT6IWFYexI"
   },
   "outputs": [
    {
     "data": {
      "text/plain": [
       "0.0005071163177490234"
      ]
     },
     "execution_count": 7,
     "metadata": {},
     "output_type": "execute_result"
    }
   ],
   "source": [
    "#Máximo valor para n=15\n",
    "x3= np.loadtxt('time_n=15.txt', unpack=True)\n",
    "np.max(x3)"
   ]
  },
  {
   "cell_type": "code",
   "execution_count": 8,
   "metadata": {},
   "outputs": [
    {
     "data": {
      "text/plain": [
       "0.0007176399230957031"
      ]
     },
     "execution_count": 8,
     "metadata": {},
     "output_type": "execute_result"
    }
   ],
   "source": [
    "#Máximo valor para n=20\n",
    "x4= np.loadtxt('time_n=20.txt', unpack=True)\n",
    "np.max(x4)"
   ]
  },
  {
   "cell_type": "code",
   "execution_count": 9,
   "metadata": {},
   "outputs": [
    {
     "data": {
      "text/plain": [
       "0.0008563995361328125"
      ]
     },
     "execution_count": 9,
     "metadata": {},
     "output_type": "execute_result"
    }
   ],
   "source": [
    "#Máximo valor para n=25\n",
    "x5= np.loadtxt('time_n=25.txt', unpack=True)\n",
    "np.max(x5)"
   ]
  },
  {
   "cell_type": "code",
   "execution_count": 10,
   "metadata": {},
   "outputs": [
    {
     "data": {
      "text/plain": [
       "0.0013890266418457031"
      ]
     },
     "execution_count": 10,
     "metadata": {},
     "output_type": "execute_result"
    }
   ],
   "source": [
    "#Máximo valor para n=30\n",
    "x6= np.loadtxt('time_n=30.txt', unpack=True)\n",
    "np.max(x6)"
   ]
  },
  {
   "cell_type": "code",
   "execution_count": 11,
   "metadata": {},
   "outputs": [
    {
     "data": {
      "text/plain": [
       "0.0025043487548828125"
      ]
     },
     "execution_count": 11,
     "metadata": {},
     "output_type": "execute_result"
    }
   ],
   "source": [
    "\n",
    "#Máximo valor para n=35\n",
    "x7= np.loadtxt('time_n=35.txt', unpack=True)\n",
    "np.max(x7)"
   ]
  },
  {
   "cell_type": "code",
   "execution_count": 12,
   "metadata": {},
   "outputs": [
    {
     "data": {
      "text/plain": [
       "0.002794981002807617"
      ]
     },
     "execution_count": 12,
     "metadata": {},
     "output_type": "execute_result"
    }
   ],
   "source": [
    "#Máximo valor para n=40\n",
    "x8= np.loadtxt('time_n=40.txt', unpack=True)\n",
    "np.max(x8)"
   ]
  },
  {
   "cell_type": "code",
   "execution_count": 13,
   "metadata": {},
   "outputs": [
    {
     "data": {
      "text/plain": [
       "0.002162933349609375"
      ]
     },
     "execution_count": 13,
     "metadata": {},
     "output_type": "execute_result"
    }
   ],
   "source": [
    "#Máximo valor para n=45\n",
    "x9= np.loadtxt('time_n=45.txt', unpack=True)\n",
    "np.max(x9)"
   ]
  },
  {
   "cell_type": "code",
   "execution_count": 14,
   "metadata": {},
   "outputs": [
    {
     "data": {
      "text/plain": [
       "0.0027687549591064453"
      ]
     },
     "execution_count": 14,
     "metadata": {},
     "output_type": "execute_result"
    }
   ],
   "source": [
    "#Máximo valor para n=50\n",
    "x10= np.loadtxt('time_n=50.txt', unpack=True)\n",
    "np.max(x10)"
   ]
  },
  {
   "cell_type": "code",
   "execution_count": 15,
   "metadata": {},
   "outputs": [
    {
     "data": {
      "text/plain": [
       "0.0041201114654541016"
      ]
     },
     "execution_count": 15,
     "metadata": {},
     "output_type": "execute_result"
    }
   ],
   "source": [
    "#Máximo valor para n=55\n",
    "x11= np.loadtxt('time_n=55.txt', unpack=True)\n",
    "np.max(x11)"
   ]
  },
  {
   "cell_type": "code",
   "execution_count": 16,
   "metadata": {},
   "outputs": [
    {
     "data": {
      "text/plain": [
       "(0.00037860870361328125, 3.5762786865234375e-05)"
      ]
     },
     "execution_count": 16,
     "metadata": {},
     "output_type": "execute_result"
    }
   ],
   "source": [
    "#Máximo valor para n=60\n",
    "x12= np.loadtxt('time_n=60.txt', unpack=True)\n",
    "np.max(x12)\n",
    "np.max(x1), np.min(x1)"
   ]
  },
  {
   "cell_type": "code",
   "execution_count": 49,
   "metadata": {},
   "outputs": [
    {
     "name": "stderr",
     "output_type": "stream",
     "text": [
      "/srv/conda/envs/notebook/lib/python3.7/site-packages/ipykernel_launcher.py:5: MatplotlibDeprecationWarning: \n",
      "The 'normed' kwarg was deprecated in Matplotlib 2.1 and will be removed in 3.1. Use 'density' instead.\n",
      "  \"\"\"\n"
     ]
    },
    {
     "data": {
      "image/png": "[encoded data removed]",
      "text/plain": [
       "<Figure size 432x288 with 1 Axes>"
      ]
     },
     "metadata": {
      "needs_background": "light"
     },
     "output_type": "display_data"
    },
    {
     "data": {
      "text/plain": [
       "<Figure size 432x288 with 0 Axes>"
      ]
     },
     "metadata": {},
     "output_type": "display_data"
    }
   ],
   "source": [
    "Y=np.linspace(0, 0.0004, 1000)\n",
    "mu1, sigma1 = norm.fit(x1) # media y desvio estandar\n",
    "datos = np.random.normal(mu, sigma, 1000) #creando muestra de datos\n",
    "plt.title('n=5')\n",
    "plt.hist(x1, bins = 50,  normed=1)\n",
    "plt.plot(Y, datos)\n",
    "plt.grid(True)\n",
    "plt.show()\n",
    "plt.clf()"
   ]
  },
  {
   "cell_type": "code",
   "execution_count": 30,
   "metadata": {},
   "outputs": [
    {
     "data": {
      "image/png": "[encoded data removed]",
      "text/plain": [
       "<Figure size 432x288 with 1 Axes>"
      ]
     },
     "metadata": {
      "needs_background": "light"
     },
     "output_type": "display_data"
    },
    {
     "data": {
      "text/plain": [
       "<Figure size 432x288 with 0 Axes>"
      ]
     },
     "metadata": {},
     "output_type": "display_data"
    }
   ],
   "source": [
    "mu2, sigma2 = norm.fit(x2) # media y desvio estandar\n",
    "plt.title('n=10')\n",
    "plt.hist(x2, bins = 50)\n",
    "plt.grid(True)\n",
    "plt.show()\n",
    "plt.clf()"
   ]
  },
  {
   "cell_type": "code",
   "execution_count": 31,
   "metadata": {},
   "outputs": [
    {
     "data": {
      "image/png": "[encoded data removed]",
      "text/plain": [
       "<Figure size 432x288 with 1 Axes>"
      ]
     },
     "metadata": {
      "needs_background": "light"
     },
     "output_type": "display_data"
    },
    {
     "data": {
      "text/plain": [
       "<Figure size 432x288 with 0 Axes>"
      ]
     },
     "metadata": {},
     "output_type": "display_data"
    }
   ],
   "source": [
    "mu3, sigma3 = norm.fit(x3) # media y desvio estandar\n",
    "plt.title('n=15')\n",
    "plt.hist(x3, bins = 50)\n",
    "plt.grid(True)\n",
    "plt.show()\n",
    "plt.clf()"
   ]
  },
  {
   "cell_type": "code",
   "execution_count": 32,
   "metadata": {},
   "outputs": [
    {
     "data": {
      "image/png": "[encoded data removed]",
      "text/plain": [
       "<Figure size 432x288 with 1 Axes>"
      ]
     },
     "metadata": {
      "needs_background": "light"
     },
     "output_type": "display_data"
    },
    {
     "data": {
      "text/plain": [
       "<Figure size 432x288 with 0 Axes>"
      ]
     },
     "metadata": {},
     "output_type": "display_data"
    }
   ],
   "source": [
    "mu4, sigma4 = norm.fit(x4) # media y desvio estandar\n",
    "plt.title('n=20')\n",
    "plt.hist(x4, bins = 50)\n",
    "plt.grid(True)\n",
    "plt.show()\n",
    "plt.clf()"
   ]
  },
  {
   "cell_type": "code",
   "execution_count": 33,
   "metadata": {},
   "outputs": [
    {
     "data": {
      "image/png": "[encoded data removed]",
      "text/plain": [
       "<Figure size 432x288 with 1 Axes>"
      ]
     },
     "metadata": {
      "needs_background": "light"
     },
     "output_type": "display_data"
    },
    {
     "data": {
      "text/plain": [
       "<Figure size 432x288 with 0 Axes>"
      ]
     },
     "metadata": {},
     "output_type": "display_data"
    }
   ],
   "source": [
    "mu5, sigma5 = norm.fit(x5) # media y desvio estandar\n",
    "plt.title('n=25')\n",
    "plt.hist(x5, bins = 50)\n",
    "plt.grid(True)\n",
    "plt.show()\n",
    "plt.clf()"
   ]
  },
  {
   "cell_type": "code",
   "execution_count": 34,
   "metadata": {},
   "outputs": [
    {
     "data": {
      "image/png": "[encoded data removed]",
      "text/plain": [
       "<Figure size 432x288 with 1 Axes>"
      ]
     },
     "metadata": {
      "needs_background": "light"
     },
     "output_type": "display_data"
    },
    {
     "data": {
      "text/plain": [
       "<Figure size 432x288 with 0 Axes>"
      ]
     },
     "metadata": {},
     "output_type": "display_data"
    }
   ],
   "source": [
    "mu6, sigma6 = norm.fit(x6) # media y desvio estandar\n",
    "plt.title('n=30')\n",
    "plt.hist(x6, bins = 50)\n",
    "plt.grid(True)\n",
    "plt.show()\n",
    "plt.clf()"
   ]
  },
  {
   "cell_type": "code",
   "execution_count": 35,
   "metadata": {},
   "outputs": [
    {
     "data": {
      "image/png": "[encoded data removed]",
      "text/plain": [
       "<Figure size 432x288 with 1 Axes>"
      ]
     },
     "metadata": {
      "needs_background": "light"
     },
     "output_type": "display_data"
    },
    {
     "data": {
      "text/plain": [
       "<Figure size 432x288 with 0 Axes>"
      ]
     },
     "metadata": {},
     "output_type": "display_data"
    }
   ],
   "source": [
    "mu7, sigma7 = norm.fit(x7) # media y desvio estandar\n",
    "plt.title('n=35')\n",
    "plt.hist(x7, bins = 50)\n",
    "plt.grid(True)\n",
    "plt.show()\n",
    "plt.clf()"
   ]
  },
  {
   "cell_type": "code",
   "execution_count": 36,
   "metadata": {},
   "outputs": [
    {
     "data": {
      "image/png": "[encoded data removed]",
      "text/plain": [
       "<Figure size 432x288 with 1 Axes>"
      ]
     },
     "metadata": {
      "needs_background": "light"
     },
     "output_type": "display_data"
    },
    {
     "data": {
      "text/plain": [
       "<Figure size 432x288 with 0 Axes>"
      ]
     },
     "metadata": {},
     "output_type": "display_data"
    }
   ],
   "source": [
    "mu8, sigma8 = norm.fit(x8) # media y desvio estandar\n",
    "plt.title('n=40')\n",
    "plt.hist(x8, bins = 50)\n",
    "plt.grid(True)\n",
    "plt.show()\n",
    "plt.clf()"
   ]
  },
  {
   "cell_type": "code",
   "execution_count": 37,
   "metadata": {},
   "outputs": [
    {
     "data": {
      "image/png": "[encoded data removed]",
      "text/plain": [
       "<Figure size 432x288 with 1 Axes>"
      ]
     },
     "metadata": {
      "needs_background": "light"
     },
     "output_type": "display_data"
    },
    {
     "data": {
      "text/plain": [
       "<Figure size 432x288 with 0 Axes>"
      ]
     },
     "metadata": {},
     "output_type": "display_data"
    }
   ],
   "source": [
    "mu9, sigma9 = norm.fit(x9) # media y desvio estandar\n",
    "plt.title('n=45')\n",
    "plt.hist(x9, bins = 50)\n",
    "plt.grid(True)\n",
    "plt.show()\n",
    "plt.clf()"
   ]
  },
  {
   "cell_type": "code",
   "execution_count": 38,
   "metadata": {},
   "outputs": [
    {
     "data": {
      "image/png": "[encoded data removed]",
      "text/plain": [
       "<Figure size 432x288 with 1 Axes>"
      ]
     },
     "metadata": {
      "needs_background": "light"
     },
     "output_type": "display_data"
    },
    {
     "data": {
      "text/plain": [
       "<Figure size 432x288 with 0 Axes>"
      ]
     },
     "metadata": {},
     "output_type": "display_data"
    }
   ],
   "source": [
    "mu10, sigma10 = norm.fit(x10) # media y desvio estandar\n",
    "plt.title('n=50')\n",
    "plt.hist(x10, bins = 50)\n",
    "plt.grid(True)\n",
    "plt.show()\n",
    "plt.clf()"
   ]
  },
  {
   "cell_type": "code",
   "execution_count": 39,
   "metadata": {},
   "outputs": [
    {
     "data": {
      "image/png": "[encoded data removed]",
      "text/plain": [
       "<Figure size 432x288 with 1 Axes>"
      ]
     },
     "metadata": {
      "needs_background": "light"
     },
     "output_type": "display_data"
    },
    {
     "data": {
      "text/plain": [
       "<Figure size 432x288 with 0 Axes>"
      ]
     },
     "metadata": {},
     "output_type": "display_data"
    }
   ],
   "source": [
    "mu11, sigma11 = norm.fit(x11) # media y desvio estandar\n",
    "plt.title('n=55')\n",
    "plt.hist(x11, bins = 50)\n",
    "plt.grid(True)\n",
    "plt.show()\n",
    "plt.clf()"
   ]
  },
  {
   "cell_type": "code",
   "execution_count": 40,
   "metadata": {},
   "outputs": [
    {
     "data": {
      "image/png": "[encoded data removed]",
      "text/plain": [
       "<Figure size 432x288 with 1 Axes>"
      ]
     },
     "metadata": {
      "needs_background": "light"
     },
     "output_type": "display_data"
    },
    {
     "data": {
      "text/plain": [
       "<Figure size 432x288 with 0 Axes>"
      ]
     },
     "metadata": {},
     "output_type": "display_data"
    }
   ],
   "source": [
    "mu12, sigma12 = norm.fit(x12) # media y desvio estandar\n",
    "plt.title('n=60')\n",
    "plt.hist(x12, bins = 50)\n",
    "plt.grid(True)\n",
    "plt.show()\n",
    "plt.clf()"
   ]
  },
  {
   "cell_type": "code",
   "execution_count": 41,
   "metadata": {},
   "outputs": [
    {
     "name": "stdout",
     "output_type": "stream",
     "text": [
      "7.825374603271485e-05 5.4152628409687154e-05\n"
     ]
    }
   ],
   "source": [
    "(mu, sigma) = norm.fit(x1)\n",
    "print(mu, sigma)"
   ]
  },
  {
   "cell_type": "code",
   "execution_count": 42,
   "metadata": {},
   "outputs": [
    {
     "name": "stdout",
     "output_type": "stream",
     "text": [
      "0.00014519691467285156 0.00011321103318725664\n"
     ]
    }
   ],
   "source": [
    "(mu, sigma) = norm.fit(x2)\n",
    "print(mu, sigma)"
   ]
  },
  {
   "cell_type": "code",
   "execution_count": 43,
   "metadata": {},
   "outputs": [],
   "source": [
    "mu, sigma = norm.fit(x2) # media y desvio estandar\n",
    "datos = np.random.normal(mu, sigma, 1000) #creando muestra de datos"
   ]
  },
  {
   "cell_type": "code",
   "execution_count": 44,
   "metadata": {},
   "outputs": [],
   "source": [
    "X_max=[np.max(x1), np.max(x2), np.max(x3), np.max(x4), np.max(x5), np.max(x6), np.max(x7), np.max(x8), np.max(x9), np.max(x10), np.max(x11), np.max(x12)]"
   ]
  },
  {
   "cell_type": "code",
   "execution_count": 45,
   "metadata": {},
   "outputs": [
    {
     "name": "stdout",
     "output_type": "stream",
     "text": [
      "[0.00037860870361328125, 0.0008471012115478516, 0.0005071163177490234, 0.0007176399230957031, 0.0008563995361328125, 0.0013890266418457031, 0.0025043487548828125, 0.002794981002807617, 0.002162933349609375, 0.0027687549591064453, 0.0041201114654541016, 0.004015684127807617]\n"
     ]
    }
   ],
   "source": [
    "print(X_max)"
   ]
  },
  {
   "cell_type": "code",
   "execution_count": 46,
   "metadata": {},
   "outputs": [],
   "source": [
    "K = np.linspace(5, 60,12)"
   ]
  },
  {
   "cell_type": "code",
   "execution_count": 131,
   "metadata": {},
   "outputs": [
    {
     "data": {
      "text/plain": [
       "Text(0.5, 1.0, 'Máximos')"
      ]
     },
     "execution_count": 131,
     "metadata": {},
     "output_type": "execute_result"
    },
    {
     "data": {
      "image/png": "[encoded data removed]",
      "text/plain": [
       "<Figure size 432x288 with 1 Axes>"
      ]
     },
     "metadata": {
      "needs_background": "light"
     },
     "output_type": "display_data"
    }
   ],
   "source": [
    "plt.plot(K, X_max, \"*\")\n",
    "plt.title('Máximos')"
   ]
  },
  {
   "cell_type": "code",
   "execution_count": 128,
   "metadata": {},
   "outputs": [],
   "source": [
    "def func1(x, a, b):\n",
    "    return a*x+b"
   ]
  },
  {
   "cell_type": "code",
   "execution_count": 129,
   "metadata": {},
   "outputs": [
    {
     "data": {
      "text/plain": [
       "array([ 6.95482002e-05, -3.38424342e-04])"
      ]
     },
     "execution_count": 129,
     "metadata": {},
     "output_type": "execute_result"
    }
   ],
   "source": [
    "popt1, pcov1 = curve_fit(func1, K, X_max)\n",
    "popt1"
   ]
  },
  {
   "cell_type": "code",
   "execution_count": 132,
   "metadata": {},
   "outputs": [
    {
     "data": {
      "text/plain": [
       "Text(0.5, 1.0, 'Máximos')"
      ]
     },
     "execution_count": 132,
     "metadata": {},
     "output_type": "execute_result"
    },
    {
     "data": {
      "image/png": "[encoded data removed]",
      "text/plain": [
       "<Figure size 432x288 with 1 Axes>"
      ]
     },
     "metadata": {
      "needs_background": "light"
     },
     "output_type": "display_data"
    }
   ],
   "source": [
    "plt.plot(K, func1(K, *popt1), 'g--', label='fit: a=%5.3f, b=%5.3f' % tuple(popt1))\n",
    "plt.plot(K, X_max, \"*\")\n",
    "plt.title('Máximos')"
   ]
  },
  {
   "cell_type": "code",
   "execution_count": 50,
   "metadata": {},
   "outputs": [],
   "source": [
    "X_mean=[mu1, mu2, mu3, mu4, mu5, mu6, mu7, mu8, mu9, mu10, mu11, mu12]"
   ]
  },
  {
   "cell_type": "code",
   "execution_count": 136,
   "metadata": {},
   "outputs": [
    {
     "data": {
      "text/plain": [
       "Text(0.5, 1.0, 'Promedios')"
      ]
     },
     "execution_count": 136,
     "metadata": {},
     "output_type": "execute_result"
    },
    {
     "data": {
      "image/png": "[encoded data removed]",
      "text/plain": [
       "<Figure size 432x288 with 1 Axes>"
      ]
     },
     "metadata": {
      "needs_background": "light"
     },
     "output_type": "display_data"
    }
   ],
   "source": [
    "plt.plot(K, X_mean, \"*\")\n",
    "plt.title('Promedios')"
   ]
  },
  {
   "cell_type": "code",
   "execution_count": 134,
   "metadata": {},
   "outputs": [],
   "source": [
    "def func(x, a, b): \n",
    "    return a*x+b"
   ]
  },
  {
   "cell_type": "code",
   "execution_count": 79,
   "metadata": {},
   "outputs": [],
   "source": [
    "popt, pcov = curve_fit(func, K, X_mean)"
   ]
  },
  {
   "cell_type": "code",
   "execution_count": 135,
   "metadata": {},
   "outputs": [
    {
     "data": {
      "text/plain": [
       "Text(0.5, 1.0, 'Promedios')"
      ]
     },
     "execution_count": 135,
     "metadata": {},
     "output_type": "execute_result"
    },
    {
     "data": {
      "image/png": "[encoded data removed]",
      "text/plain": [
       "<Figure size 432x288 with 1 Axes>"
      ]
     },
     "metadata": {
      "needs_background": "light"
     },
     "output_type": "display_data"
    }
   ],
   "source": [
    "plt.plot(K, func(K, *popt), 'g--', label='fit: a=%5.3f, b=%5.3f' % tuple(popt))\n",
    "plt.plot(K, X_mean, \"*\")\n",
    "plt.title('Promedios')"
   ]
  },
  {
   "cell_type": "code",
   "execution_count": null,
   "metadata": {},
   "outputs": [],
   "source": []
  }
 ],
 "metadata": {
  "accelerator": "GPU",
  "colab": {
   "collapsed_sections": [],
   "name": "Copia_de_PARCIAL_2.ipynb",
   "provenance": []
  },
  "kernelspec": {
   "display_name": "Python 3",
   "language": "python",
   "name": "python3"
  },
  "language_info": {
   "codemirror_mode": {
    "name": "ipython",
    "version": 3
   },
   "file_extension": ".py",
   "mimetype": "text/x-python",
   "name": "python",
   "nbconvert_exporter": "python",
   "pygments_lexer": "ipython3",
   "version": "3.7.3"
  }
 },
 "nbformat": 4,
 "nbformat_minor": 4
}
