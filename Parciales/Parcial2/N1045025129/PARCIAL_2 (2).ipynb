{
 "cells": [
  {
   "cell_type": "code",
   "execution_count": 1,
   "metadata": {
    "colab": {},
    "colab_type": "code",
    "id": "xHyZjmH7KZ8K"
   },
   "outputs": [],
   "source": [
    "import numpy as np\n",
    "import matplotlib.pyplot as plt\n",
    "from scipy.integrate import odeint\n",
    "import time\n",
    "import os"
   ]
  },
  {
   "cell_type": "code",
   "execution_count": 5,
   "metadata": {
    "colab": {},
    "colab_type": "code",
    "id": "G1yofNSmV9Rt"
   },
   "outputs": [],
   "source": [
    "def initialize_matrix(n):\n",
    "    M_n = np.arange(n*n).reshape((n, n))\n",
    "    for i in range(0,n):\n",
    "        for j in range(0,n): \n",
    "            M_n [i][j] =  np.random.randint(2)\n",
    "\n",
    "    return M_n"
   ]
  },
  {
   "cell_type": "code",
   "execution_count": 6,
   "metadata": {
    "colab": {},
    "colab_type": "code",
    "id": "LqYOafUdrf4j"
   },
   "outputs": [],
   "source": [
    "def Evol_system(M_n):\n",
    "    Vecinos = np.arange(8).reshape((1, 8))\n",
    "    N = M_n\n",
    "\n",
    "    for i in range(1, M_n.shape[0] - 1):\n",
    "        for j in range(1, M_n.shape[0] - 1): \n",
    "            N[i][j] =  M_n[i][j]\n",
    "  \n",
    "            Vecinos = np.array([M_n[i-1][j-1], M_n[i-1][j], M_n[i-1][j+1], M_n[i][j-1], M_n[i][j+1], M_n[i+1][j-1], M_n[i+1][j], M_n[i+1][j+1]])\n",
    "            k = np.count_nonzero(Vecinos==1)\n",
    "      \n",
    "            if M_n[i][j] == 0:\n",
    "                if k==3:\n",
    "                    N[i][j] = 1\n",
    "                else:\n",
    "                    N [i][j] = 0\n",
    "\n",
    "            else:\n",
    "                if k==2 or k==3:\n",
    "                    N[i][j] = 1\n",
    "                else:\n",
    "                    N[i][j] = 0\n",
    "      \n",
    "        M_n = N\n",
    "\n",
    "        return M_n"
   ]
  },
  {
   "cell_type": "code",
   "execution_count": 26,
   "metadata": {
    "colab": {
     "base_uri": "https://localhost:8080/",
     "height": 345
    },
    "colab_type": "code",
    "id": "ZuLwa_o3Y9Ph",
    "outputId": "498a0595-c361-4ba5-ddd7-2ecff0afe2a6"
   },
   "outputs": [],
   "source": [
    "for h in range(1, 13):\n",
    "    n = h * 5\n",
    "    filename = \"time_n=\" + str(n) + \".txt\"\n",
    "    archivo = open(filename, \"a\")\n",
    "\n",
    "    for p in range(0,20):\n",
    "        M_n = initialize_matrix(h*5)\n",
    "        k = [np.count_nonzero(M_n==1)]\n",
    "\n",
    "        for i in range(0,9):\n",
    "            M_n = Evol_system(M_n)\n",
    "            k.append(np.count_nonzero(M_n == 1))\n",
    "\n",
    "        tiempo_inicial=time.time()\n",
    "\n",
    "        while(1):\n",
    "            Evol_system(M_n)\n",
    "\n",
    "            k[:-1] = k[1:]\n",
    "            k[-1] = np.count_nonzero(M_n==1) \n",
    "      \n",
    "      # condiciones de estabilidad por periodicidad\n",
    "            condition_p1 = sum(k) == k[-1] * 10\n",
    "            condition_p2 = sum([k[i] for i in range(0, len(k), 2)]) == k[-2] * 5 and sum([k[i] for i in range(1, len(k), 2)]) == k[-1] * 5 \n",
    "            condition_p3 = sum([k[i] for i in range(0, len(k), 3)]) == k[-1] * 4 and sum([k[i] for i in range(1, len(k), 3)]) == k[-3] * 3 and sum([k[i] for i in range(2, len(k), 3)]) == k[-2] * 3  \n",
    "            condition_p4 = sum([k[i] for i in range(0, len(k), 4)]) == k[-2] * 3 and sum([k[i] for i in range(1, len(k), 4)]) == k[-1] * 3 and sum([k[i] for i in range(2, len(k), 4)]) == k[-4] * 2 and sum([k[i] for i in range(2, len(k), 4)]) == k[-3] * 2  \n",
    "            condition_p2_double = sum([k[i] for i in range(0, len(k), 2)]) == (3 * k[-1] + 2 * k[-3])\n",
    "            condition_p3_double = sum([k[i] for i in range(0, len(k), 3)]) == (2 * k[-2] + 2 * k[-1]) and sum([k[i] for i in range(1, len(k), 3)]) == (2 * k[-2] + k[-1]) \n",
    "\n",
    "              #si alguna condicion se estabilidad se cumple se para el ciclo\n",
    "            if condition_p1 or condition_p2 or condition_p3 or condition_p4 or condition_p2_double or condition_p3_double:\n",
    "                break\n",
    "\n",
    "        archivo.write(str(time.time()-tiempo_inicial) + '\\n')\n",
    "\n",
    "    archivo.close()"
   ]
  },
  {
   "cell_type": "code",
   "execution_count": 27,
   "metadata": {
    "colab": {
     "base_uri": "https://localhost:8080/",
     "height": 50
    },
    "colab_type": "code",
    "id": "PwnvE_m0Qmga",
    "outputId": "d13fd9aa-d12c-464c-bc55-f6740620a10b"
   },
   "outputs": [
    {
     "data": {
      "text/plain": [
       "0.0006458759307861328"
      ]
     },
     "execution_count": 27,
     "metadata": {},
     "output_type": "execute_result"
    }
   ],
   "source": [
    "#Máximo valor para n=5\n",
    "x1= np.loadtxt('time_n=5.txt', unpack=True)\n",
    "np.max(x1)"
   ]
  },
  {
   "cell_type": "code",
   "execution_count": 50,
   "metadata": {
    "colab": {
     "base_uri": "https://localhost:8080/",
     "height": 53
    },
    "colab_type": "code",
    "id": "yjqH-lOzQoxg",
    "outputId": "2945ab1a-4aa8-46d9-fa2a-477e9614faea"
   },
   "outputs": [
    {
     "data": {
      "text/plain": [
       "0.011993169784545898"
      ]
     },
     "execution_count": 50,
     "metadata": {},
     "output_type": "execute_result"
    }
   ],
   "source": [
    "#Máximo valor para n=10\n",
    "x2= np.loadtxt('time_n=10.txt', unpack=True)\n",
    "np.max(x2)"
   ]
  },
  {
   "cell_type": "code",
   "execution_count": 51,
   "metadata": {
    "colab": {},
    "colab_type": "code",
    "id": "P5PT6IWFYexI"
   },
   "outputs": [
    {
     "data": {
      "text/plain": [
       "0.110321044921875"
      ]
     },
     "execution_count": 51,
     "metadata": {},
     "output_type": "execute_result"
    }
   ],
   "source": [
    "#Máximo valor para n=15\n",
    "x3= np.loadtxt('time_n=15.txt', unpack=True)\n",
    "np.max(x3)"
   ]
  },
  {
   "cell_type": "code",
   "execution_count": 52,
   "metadata": {},
   "outputs": [
    {
     "data": {
      "text/plain": [
       "0.26677465438842773"
      ]
     },
     "execution_count": 52,
     "metadata": {},
     "output_type": "execute_result"
    }
   ],
   "source": [
    "#Máximo valor para n=20\n",
    "x4= np.loadtxt('time_n=20.txt', unpack=True)\n",
    "np.max(x4)"
   ]
  },
  {
   "cell_type": "code",
   "execution_count": 53,
   "metadata": {},
   "outputs": [
    {
     "data": {
      "text/plain": [
       "0.5622007846832275"
      ]
     },
     "execution_count": 53,
     "metadata": {},
     "output_type": "execute_result"
    }
   ],
   "source": [
    "#Máximo valor para n=25\n",
    "x5= np.loadtxt('time_n=25.txt', unpack=True)\n",
    "np.max(x5)"
   ]
  },
  {
   "cell_type": "code",
   "execution_count": 54,
   "metadata": {},
   "outputs": [
    {
     "data": {
      "text/plain": [
       "1.676619052886963"
      ]
     },
     "execution_count": 54,
     "metadata": {},
     "output_type": "execute_result"
    }
   ],
   "source": [
    "#Máximo valor para n=30\n",
    "x6= np.loadtxt('time_n=30.txt', unpack=True)\n",
    "np.max(x6)"
   ]
  },
  {
   "cell_type": "code",
   "execution_count": 55,
   "metadata": {},
   "outputs": [
    {
     "data": {
      "text/plain": [
       "2.8641598224639893"
      ]
     },
     "execution_count": 55,
     "metadata": {},
     "output_type": "execute_result"
    }
   ],
   "source": [
    "#Máximo valor para n=35\n",
    "x7= np.loadtxt('time_n=35.txt', unpack=True)\n",
    "np.max(x7)"
   ]
  },
  {
   "cell_type": "code",
   "execution_count": 56,
   "metadata": {},
   "outputs": [
    {
     "data": {
      "text/plain": [
       "2.4468438625335693"
      ]
     },
     "execution_count": 56,
     "metadata": {},
     "output_type": "execute_result"
    }
   ],
   "source": [
    "#Máximo valor para n=40\n",
    "x8= np.loadtxt('time_n=40.txt', unpack=True)\n",
    "np.max(x8)"
   ]
  },
  {
   "cell_type": "code",
   "execution_count": 57,
   "metadata": {},
   "outputs": [
    {
     "data": {
      "text/plain": [
       "2.8154351711273193"
      ]
     },
     "execution_count": 57,
     "metadata": {},
     "output_type": "execute_result"
    }
   ],
   "source": [
    "#Máximo valor para n=45\n",
    "x9= np.loadtxt('time_n=45.txt', unpack=True)\n",
    "np.max(x9)"
   ]
  },
  {
   "cell_type": "code",
   "execution_count": 58,
   "metadata": {},
   "outputs": [
    {
     "data": {
      "text/plain": [
       "13.088721990585327"
      ]
     },
     "execution_count": 58,
     "metadata": {},
     "output_type": "execute_result"
    }
   ],
   "source": [
    "#Máximo valor para n=50\n",
    "x10= np.loadtxt('time_n=50.txt', unpack=True)\n",
    "np.max(x10)"
   ]
  },
  {
   "cell_type": "code",
   "execution_count": 59,
   "metadata": {},
   "outputs": [
    {
     "data": {
      "text/plain": [
       "7.316617965698242"
      ]
     },
     "execution_count": 59,
     "metadata": {},
     "output_type": "execute_result"
    }
   ],
   "source": [
    "#Máximo valor para n=55\n",
    "x11= np.loadtxt('time_n=55.txt', unpack=True)\n",
    "np.max(x11)"
   ]
  },
  {
   "cell_type": "code",
   "execution_count": 60,
   "metadata": {},
   "outputs": [
    {
     "data": {
      "text/plain": [
       "0.0016298294067382812"
      ]
     },
     "execution_count": 60,
     "metadata": {},
     "output_type": "execute_result"
    }
   ],
   "source": [
    "#Máximo valor para n=60\n",
    "x12= np.loadtxt('time_n=60.txt', unpack=True)\n",
    "np.max(x12)"
   ]
  },
  {
   "cell_type": "code",
   "execution_count": 61,
   "metadata": {},
   "outputs": [],
   "source": [
    "Y=np.linspace(1.,20.,20)"
   ]
  },
  {
   "cell_type": "code",
   "execution_count": 64,
   "metadata": {},
   "outputs": [
    {
     "data": {
      "text/plain": [
       "[<matplotlib.lines.Line2D at 0x7f8f0dd5d5c0>]"
      ]
     },
     "execution_count": 64,
     "metadata": {},
     "output_type": "execute_result"
    },
    {
     "data": {
      "image/png": "[encoded data removed]",
      "text/plain": [
       "<Figure size 432x288 with 1 Axes>"
      ]
     },
     "metadata": {
      "needs_background": "light"
     },
     "output_type": "display_data"
    }
   ],
   "source": [
    "plt.plot(Y,x1,\"*\")"
   ]
  },
  {
   "cell_type": "code",
   "execution_count": 66,
   "metadata": {},
   "outputs": [
    {
     "data": {
      "text/plain": [
       "0.0008481621742248535"
      ]
     },
     "execution_count": 66,
     "metadata": {},
     "output_type": "execute_result"
    }
   ],
   "source": [
    "np.mean(x1)"
   ]
  },
  {
   "cell_type": "code",
   "execution_count": null,
   "metadata": {},
   "outputs": [],
   "source": []
  }
 ],
 "metadata": {
  "accelerator": "GPU",
  "colab": {
   "collapsed_sections": [],
   "name": "Copia_de_PARCIAL_2.ipynb",
   "provenance": []
  },
  "kernelspec": {
   "display_name": "Python 3",
   "language": "python",
   "name": "python3"
  },
  "language_info": {
   "codemirror_mode": {
    "name": "ipython",
    "version": 3
   },
   "file_extension": ".py",
   "mimetype": "text/x-python",
   "name": "python",
   "nbconvert_exporter": "python",
   "pygments_lexer": "ipython3",
   "version": "3.7.3"
  }
 },
 "nbformat": 4,
 "nbformat_minor": 4
}
